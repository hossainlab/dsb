{
 "cells": [
  {
   "cell_type": "markdown",
   "id": "537a6f41-b884-4f98-87b4-924e14061a62",
   "metadata": {
    "jp-MarkdownHeadingCollapsed": true
   },
   "source": [
    "# Module 03 - Scientific Computing with Numpy\n",
    "\n",
    "---\n",
    "\n",
    "#### <a href=\"linkedin.com/in/tasmim-rahman-adib-403074221\">Tasmim Rahman Adib</a>\n",
    "![numpylogo](../img/numpy.jpeg)\n",
    "\n",
    "# Lecture 3.1 - The Basics of Numpy Arrays\n",
    "## Agenda\n",
    "- Introduction\n",
    "- Getting Started\n",
    "- Creating Arrays\n",
    "- Data Types"
   ]
  },
  {
   "cell_type": "markdown",
   "id": "6f5d32cc-b18f-478e-b3c6-bd1acfd074aa",
   "metadata": {},
   "source": [
    "# 3.1.1. Introduction"
   ]
  },
  {
   "cell_type": "markdown",
   "id": "a3c61328-b91d-4146-a191-1d6bd0d968fd",
   "metadata": {},
   "source": [
    "## What is NumPy?\n",
    "- NumPy is a Python library used for working with arrays.\n",
    "\n",
    "- It also has functions for working in domain of linear algebra, fourier transform, and matrices.\n",
    "\n",
    "- NumPy was created in 2005 by Travis Oliphant. It is an open source project and you can use it freely.\n",
    "\n",
    "- NumPy stands for Numerical Python."
   ]
  },
  {
   "cell_type": "markdown",
   "id": "8145bf63-0b87-4a02-b5d9-fad3b905f8cb",
   "metadata": {},
   "source": [
    "## Why is NumPy Faster Than Lists?\n",
    "- NumPy arrays are stored at one continuous place in memory unlike lists, so processes can access and manipulate them very efficiently.\n",
    "\n",
    "- This behavior is called locality of reference in computer science.\n",
    "\n",
    "- This is the main reason why NumPy is faster than lists. Also it is optimized to work with latest CPU architectures."
   ]
  },
  {
   "cell_type": "markdown",
   "id": "7628539a-9dd2-4fa9-8749-cea41bd6b19f",
   "metadata": {},
   "source": [
    "# 3.1.2. Getting Started"
   ]
  },
  {
   "cell_type": "code",
   "execution_count": 3,
   "id": "b91ab364-4a4a-4aa4-b84f-a5feadcc7c72",
   "metadata": {},
   "outputs": [
    {
     "name": "stdout",
     "output_type": "stream",
     "text": [
      "Collecting numpy\n",
      "  Using cached numpy-2.1.2-cp310-cp310-manylinux_2_17_x86_64.manylinux2014_x86_64.whl (16.3 MB)\n",
      "Installing collected packages: numpy\n",
      "Successfully installed numpy-2.1.2\n"
     ]
    }
   ],
   "source": [
    "# install numpy\n",
    "!pip install numpy"
   ]
  },
  {
   "cell_type": "code",
   "execution_count": 1,
   "id": "776cbaa7-75e7-434b-be66-cfc47e9139dc",
   "metadata": {},
   "outputs": [],
   "source": [
    "# use following import conventions\n",
    "import numpy as np"
   ]
  },
  {
   "cell_type": "code",
   "execution_count": 5,
   "id": "2f4d701d-f031-4719-996e-888f788bce32",
   "metadata": {},
   "outputs": [
    {
     "data": {
      "text/plain": [
       "'2.1.2'"
      ]
     },
     "execution_count": 5,
     "metadata": {},
     "output_type": "execute_result"
    }
   ],
   "source": [
    "# checking numpy version\n",
    "np.__version__"
   ]
  },
  {
   "cell_type": "markdown",
   "id": "f5380b35-0f31-488c-b5d6-10ab58bb3547",
   "metadata": {},
   "source": [
    "## Calculation"
   ]
  },
  {
   "cell_type": "markdown",
   "id": "634c97cc-e8ed-4314-bc18-e307f6ffa46a",
   "metadata": {},
   "source": [
    "### Element wise sum is not possible in Python list. But numpy can do that it is an advantage of numpy array"
   ]
  },
  {
   "cell_type": "code",
   "execution_count": 6,
   "id": "5d94b232-a1ca-4cac-9c84-7571ed65deb8",
   "metadata": {},
   "outputs": [
    {
     "name": "stdout",
     "output_type": "stream",
     "text": [
      "[1, 2, 3, 4, 5, 6]\n"
     ]
    }
   ],
   "source": [
    "# add 2 lists \n",
    "L1 = [1, 2, 3]\n",
    "L2 = [4, 5, 6]\n",
    "print(L1+L2)"
   ]
  },
  {
   "cell_type": "code",
   "execution_count": 8,
   "id": "a75d1f84-1322-4d21-9aff-bfcd1f48b970",
   "metadata": {},
   "outputs": [
    {
     "name": "stdout",
     "output_type": "stream",
     "text": [
      "[5 7 9]\n"
     ]
    }
   ],
   "source": [
    "# element wise sum using numpy array\n",
    "\n",
    "A1 = np.array([1, 2, 3]) # Array initialization\n",
    "A2 = np.array([4, 5, 6])\n",
    "print(A1+A2) #summation and print"
   ]
  },
  {
   "cell_type": "markdown",
   "id": "fb5fd75c-9ffd-49c7-b1cd-db8f6fe56677",
   "metadata": {},
   "source": [
    "## Less Memory Consumption"
   ]
  },
  {
   "cell_type": "code",
   "execution_count": 10,
   "id": "da76de7e-88d0-41ce-9751-48e41c9ea140",
   "metadata": {},
   "outputs": [
    {
     "name": "stdout",
     "output_type": "stream",
     "text": [
      "Memory used by Python list: 36000052 bytes\n",
      "Memory used by NumPy array: 8000000 bytes\n"
     ]
    }
   ],
   "source": [
    "import sys\n",
    "\n",
    "\n",
    "# Python list with 1,000,000 elements\n",
    "py_list = list(range(1000000))\n",
    "\n",
    "python_memory = sys.getsizeof(py_list) + sum(sys.getsizeof(item) for item in py_list)\n",
    "\n",
    "# NumPy array with 1,000,000 elements\n",
    "np_array = np.arange(1000000)\n",
    "\n",
    "numpy_memory = np_array.nbytes\n",
    "\n",
    "# Print memory usage\n",
    "print(f\"Memory used by Python list: {python_memory} bytes\")\n",
    "print(f\"Memory used by NumPy array: {numpy_memory} bytes\")"
   ]
  },
  {
   "cell_type": "markdown",
   "id": "cc2e64e2-80ae-4c59-b4f3-016322c74647",
   "metadata": {},
   "source": [
    "### Explanation:\n",
    "- A Python list stores references (pointers) to objects, and each integer object in Python contains metadata, leading to more memory overhead.\n",
    "- NumPy arrays, on the other hand, store raw data in a contiguous block, using a fixed size for each element, which leads to significantly less memory usage."
   ]
  },
  {
   "cell_type": "markdown",
   "id": "219c7b64-4b1f-45b6-84b4-c9ff6d77db32",
   "metadata": {},
   "source": [
    "## Faster Execution "
   ]
  },
  {
   "cell_type": "code",
   "execution_count": 11,
   "id": "4332290b-6de8-4e10-8876-9a73b2e9687e",
   "metadata": {},
   "outputs": [
    {
     "name": "stdout",
     "output_type": "stream",
     "text": [
      "Python list took: 0.85032 seconds\n",
      "NumPy array took: 0.07978 seconds\n"
     ]
    }
   ],
   "source": [
    "import time\n",
    "\n",
    "\n",
    "# Raw Python list\n",
    "list1 = list(range(10000000))\n",
    "list2 = list(range(10000000))\n",
    "\n",
    "# Measure time for Python list\n",
    "start_time = time.time()\n",
    "result_list = [x + y for x, y in zip(list1, list2)]\n",
    "end_time = time.time()\n",
    "print(f\"Python list took: {end_time - start_time:.5f} seconds\")\n",
    "\n",
    "# NumPy array\n",
    "array1 = np.arange(10000000)\n",
    "array2 = np.arange(10000000)\n",
    "\n",
    "# Measure time for NumPy array\n",
    "start_time = time.time()\n",
    "result_array = array1 + array2\n",
    "end_time = time.time()\n",
    "print(f\"NumPy array took: {end_time - start_time:.5f} seconds\")\n"
   ]
  },
  {
   "cell_type": "markdown",
   "id": "f113908e-4165-4044-9bbf-c56f083f861e",
   "metadata": {},
   "source": [
    "### Explanation:\n",
    "- **Python List:** In Python, lists are general-purpose containers that do not have fixed-size elements. As a result, performing operations like element-wise addition requires looping through each element and performing the addition one by one in Python, which adds significant overhead.\n",
    "\n",
    "- **NumPy Array:** NumPy uses vectorized operations, meaning that the addition of two arrays is done in highly optimized C code under the hood. This eliminates the need for explicit loops, resulting in much faster execution."
   ]
  },
  {
   "cell_type": "markdown",
   "id": "ed383481-c773-47c2-9baf-dace174483c9",
   "metadata": {},
   "source": [
    "# 3.1.3. Creating Arrays\n",
    " \n",
    "- **Array:** Ordered collection of elements of basic data types of given length.\n",
    "- **Syntax**\n",
    "```python \n",
    "np.array(object)\n",
    "```"
   ]
  },
  {
   "cell_type": "markdown",
   "id": "b42bb7ad-eea0-491b-8a24-93486b04b3fe",
   "metadata": {},
   "source": [
    "![ndarray](img/arrays.png)"
   ]
  },
  {
   "cell_type": "code",
   "execution_count": 12,
   "id": "04b47d1d-b7b2-483a-9aff-c6f5f6ec39c2",
   "metadata": {},
   "outputs": [
    {
     "data": {
      "text/plain": [
       "array([1, 2, 3])"
      ]
     },
     "execution_count": 12,
     "metadata": {},
     "output_type": "execute_result"
    }
   ],
   "source": [
    "# Creating 1D array\n",
    "A = np.array([1, 2, 3])\n",
    "A "
   ]
  },
  {
   "cell_type": "code",
   "execution_count": 13,
   "id": "4ef0e47b-d705-4060-923d-e651bc0c71bc",
   "metadata": {},
   "outputs": [
    {
     "data": {
      "text/plain": [
       "numpy.ndarray"
      ]
     },
     "execution_count": 13,
     "metadata": {},
     "output_type": "execute_result"
    }
   ],
   "source": [
    "type(A)"
   ]
  },
  {
   "cell_type": "markdown",
   "id": "f13c0729-f9cc-470f-99eb-7b877725341b",
   "metadata": {},
   "source": [
    "## Array with Categorical Entities \n",
    "- Numpy can handle different categorical entities. \n",
    "- All elements are coerced into same data type "
   ]
  },
  {
   "cell_type": "code",
   "execution_count": 16,
   "id": "01ca8a60-b0b9-4aa0-b25c-3d94427c05d6",
   "metadata": {},
   "outputs": [
    {
     "name": "stdout",
     "output_type": "stream",
     "text": [
      "['12' '13' 'Jubayer']\n"
     ]
    }
   ],
   "source": [
    "# create an array with categorical entities. \n",
    "X = np.array([12, 13, \"Jubayer\"])\n",
    "print(X)"
   ]
  },
  {
   "cell_type": "code",
   "execution_count": 17,
   "id": "9c0414dd-31d3-43ee-8fe2-389e373bcb35",
   "metadata": {},
   "outputs": [
    {
     "name": "stdout",
     "output_type": "stream",
     "text": [
      "<class 'numpy.ndarray'>\n"
     ]
    }
   ],
   "source": [
    "# type \n",
    "print(type(X))"
   ]
  },
  {
   "cell_type": "code",
   "execution_count": 18,
   "id": "f992e25b-2316-459a-8441-6e462f3d97f5",
   "metadata": {},
   "outputs": [
    {
     "name": "stdout",
     "output_type": "stream",
     "text": [
      "[[3 4 5]\n",
      " [7 8 9]]\n"
     ]
    }
   ],
   "source": [
    "# Creating 2D array\n",
    "A2 = np.array([[3, 4, 5], [7, 8, 9]])\n",
    "print(A2)"
   ]
  },
  {
   "cell_type": "code",
   "execution_count": 19,
   "id": "ac68c285-9ac5-4901-92bc-69651acaf236",
   "metadata": {},
   "outputs": [
    {
     "name": "stdout",
     "output_type": "stream",
     "text": [
      "[[[ 1  2  3]\n",
      "  [ 4  5  6]]\n",
      "\n",
      " [[ 7  8  9]\n",
      "  [10 11 12]]]\n"
     ]
    }
   ],
   "source": [
    "# Creating 3D array\n",
    "A3 = np.array([[(1, 2, 3), (4, 5, 6)], [(7, 8, 9), (10, 11, 12)]])\n",
    "print(A3) "
   ]
  },
  {
   "cell_type": "markdown",
   "id": "6b399cb7-567b-4389-84a0-f070856769c1",
   "metadata": {},
   "source": [
    "## Inspecting array properties"
   ]
  },
  {
   "cell_type": "markdown",
   "id": "3202b4d7-f5fb-4d73-bbe9-e27d020577f3",
   "metadata": {},
   "source": [
    "### Size\n",
    "- Returns number of elements in array\n",
    "- **Syntax:** `array.size`"
   ]
  },
  {
   "cell_type": "code",
   "execution_count": 21,
   "id": "756e8b8c-adf8-4c1c-ab69-6c110b36e1ef",
   "metadata": {},
   "outputs": [
    {
     "data": {
      "text/plain": [
       "5"
      ]
     },
     "execution_count": 21,
     "metadata": {},
     "output_type": "execute_result"
    }
   ],
   "source": [
    "A1 = np.array([1, 2, 3, 4, 5])\n",
    "# size \n",
    "A1.size"
   ]
  },
  {
   "cell_type": "markdown",
   "id": "f7f42dfc-72ab-4d91-a64a-02a00c72b5d5",
   "metadata": {},
   "source": [
    "### Shape\n",
    "- Returns dimensions of array (rows,columns)\n",
    "- **Syntax:** `array.shape`"
   ]
  },
  {
   "cell_type": "code",
   "execution_count": 22,
   "id": "22242a11-65b5-416b-a4e4-ce1548a9f39f",
   "metadata": {},
   "outputs": [
    {
     "data": {
      "text/plain": [
       "(2, 3)"
      ]
     },
     "execution_count": 22,
     "metadata": {},
     "output_type": "execute_result"
    }
   ],
   "source": [
    "A2 = np.array([[4, 5, 6], [7, 8, 9]])\n",
    "# shape \n",
    "A2.shape "
   ]
  },
  {
   "cell_type": "code",
   "execution_count": 24,
   "id": "f6153d4e-0250-44da-a97e-73518491363d",
   "metadata": {},
   "outputs": [
    {
     "data": {
      "text/plain": [
       "2"
      ]
     },
     "execution_count": 24,
     "metadata": {},
     "output_type": "execute_result"
    }
   ],
   "source": [
    "# get row\n",
    "A2.shape[0]"
   ]
  },
  {
   "cell_type": "code",
   "execution_count": 25,
   "id": "e44b7ed2-cdf8-4602-9e38-b2fa194f37c5",
   "metadata": {},
   "outputs": [
    {
     "data": {
      "text/plain": [
       "3"
      ]
     },
     "execution_count": 25,
     "metadata": {},
     "output_type": "execute_result"
    }
   ],
   "source": [
    "# get column\n",
    "A2.shape[1]"
   ]
  },
  {
   "cell_type": "markdown",
   "id": "1828e17c-59fb-4ef2-b250-5b620a2e4f03",
   "metadata": {},
   "source": [
    "## Type Conversion \n",
    " - Convert array elements to type dtype\n",
    " - **Syntax:** `array.astype(dtype)`\n",
    "     - dtype - data type "
   ]
  },
  {
   "cell_type": "code",
   "execution_count": 26,
   "id": "6b8a9d38-1b8f-4699-808a-06b742690eac",
   "metadata": {},
   "outputs": [
    {
     "data": {
      "text/plain": [
       "dtype('int64')"
      ]
     },
     "execution_count": 26,
     "metadata": {},
     "output_type": "execute_result"
    }
   ],
   "source": [
    "A3 = np.array([11, 12, 33, 44])\n",
    "# get data types \n",
    "A3.dtype"
   ]
  },
  {
   "cell_type": "code",
   "execution_count": 29,
   "id": "4a878ebb-f896-47eb-856e-c4c9ac376c6f",
   "metadata": {},
   "outputs": [],
   "source": [
    "# change it to float\n",
    "A4 = A3.astype(np.float16)"
   ]
  },
  {
   "cell_type": "code",
   "execution_count": 30,
   "id": "4181dd3d-a0ad-493a-99f7-4942937cdd6c",
   "metadata": {},
   "outputs": [
    {
     "data": {
      "text/plain": [
       "dtype('float16')"
      ]
     },
     "execution_count": 30,
     "metadata": {},
     "output_type": "execute_result"
    }
   ],
   "source": [
    "A4.dtype"
   ]
  },
  {
   "cell_type": "code",
   "execution_count": 31,
   "id": "9271b277-8c49-4f28-a99c-e9dd5a115d62",
   "metadata": {},
   "outputs": [
    {
     "data": {
      "text/plain": [
       "array([11., 12., 33., 44.], dtype=float16)"
      ]
     },
     "execution_count": 31,
     "metadata": {},
     "output_type": "execute_result"
    }
   ],
   "source": [
    "A4"
   ]
  },
  {
   "cell_type": "markdown",
   "id": "28a662b1-99a5-42de-bd64-1c503405750d",
   "metadata": {},
   "source": [
    "## Generate arrays using `zeros()`\n",
    "- Returns an array of given shape and type filled with zeros \n",
    "- **Syntax:** `np.zeros(shape, dtype)`\n",
    "    - shape - integer or sequence of integers\n",
    "    - dtype - data type(default: float)"
   ]
  },
  {
   "cell_type": "code",
   "execution_count": 32,
   "id": "7486149e-2762-4ff0-a525-99e55bda3fc2",
   "metadata": {},
   "outputs": [
    {
     "name": "stdout",
     "output_type": "stream",
     "text": [
      "[0. 0. 0. 0. 0. 0. 0. 0. 0. 0.]\n"
     ]
    }
   ],
   "source": [
    "# 1D array of length 3 with all values 0 \n",
    "Z1 = np.zeros(10)\n",
    "print(Z1)"
   ]
  },
  {
   "cell_type": "code",
   "execution_count": 33,
   "id": "6a6208b5-d2df-4b7a-82d1-27b625d2907c",
   "metadata": {},
   "outputs": [
    {
     "name": "stdout",
     "output_type": "stream",
     "text": [
      "[[0. 0. 0. 0.]\n",
      " [0. 0. 0. 0.]\n",
      " [0. 0. 0. 0.]]\n"
     ]
    }
   ],
   "source": [
    "# 2D array of 3x4 with all values 0 \n",
    "Z2 = np.zeros((3,4))\n",
    "print(Z2)"
   ]
  },
  {
   "cell_type": "markdown",
   "id": "044c1b18-7833-4ffc-80f6-60287b715825",
   "metadata": {},
   "source": [
    "## Generate arrays using `ones()`\n",
    "- Returns an array of given shape and type filled with ones \n",
    "- **Syntax:** `np.ones(shape, dtype)`\n",
    "    - shape - integer or sequence of integers \n",
    "    - dtype - data type(default: float) "
   ]
  },
  {
   "cell_type": "code",
   "execution_count": 34,
   "id": "e14fe20c-6f57-48b1-b997-f060a66fe1b8",
   "metadata": {},
   "outputs": [
    {
     "name": "stdout",
     "output_type": "stream",
     "text": [
      "[1. 1. 1. 1. 1. 1. 1. 1. 1. 1.]\n"
     ]
    }
   ],
   "source": [
    "# 1D array of length 3 with all values 1\n",
    "A1 = np.ones(10)  \n",
    "print(A1) "
   ]
  },
  {
   "cell_type": "code",
   "execution_count": 35,
   "id": "6d248415-a11b-4416-9c96-019f2825acc3",
   "metadata": {},
   "outputs": [
    {
     "name": "stdout",
     "output_type": "stream",
     "text": [
      "[[1. 1. 1. 1.]\n",
      " [1. 1. 1. 1.]\n",
      " [1. 1. 1. 1.]]\n"
     ]
    }
   ],
   "source": [
    "# 2D array of 3x4 with all values 1\n",
    "A2 = np.ones((3,4))\n",
    "A2\n",
    "print(A2) "
   ]
  },
  {
   "cell_type": "markdown",
   "id": "f556a68d-29ca-462a-b230-bc2da6cd73b0",
   "metadata": {},
   "source": [
    "## Generate arrays using `arange()`\n",
    "- Returns equally spaced numbers with in the given range based on step size. \n",
    "- **Syntax:** `np.arange(start, stop, step)`\n",
    "    - start- starts of interval range \n",
    "    - stop - end of interval range '\n",
    "    - step - step size of interval "
   ]
  },
  {
   "cell_type": "code",
   "execution_count": 36,
   "id": "6d6e6e2b-8a5e-4cad-848e-2a5825b3067e",
   "metadata": {},
   "outputs": [
    {
     "name": "stdout",
     "output_type": "stream",
     "text": [
      "[0 1 2 3 4 5 6 7 8 9]\n"
     ]
    }
   ],
   "source": [
    "# not specify start and step \n",
    "A1 = np.arange(10)\n",
    "print(A1)"
   ]
  },
  {
   "cell_type": "code",
   "execution_count": 40,
   "id": "08a8ef7a-996f-476f-8cf6-6bd1b93062ba",
   "metadata": {},
   "outputs": [
    {
     "name": "stdout",
     "output_type": "stream",
     "text": [
      "[1 3 5 7 9]\n"
     ]
    }
   ],
   "source": [
    "A = np.arange(1, 10, 2)\n",
    "print(A)"
   ]
  },
  {
   "cell_type": "code",
   "execution_count": 38,
   "id": "e29ab69e-72d3-4708-a28b-490fc1865ab2",
   "metadata": {},
   "outputs": [
    {
     "name": "stdout",
     "output_type": "stream",
     "text": [
      "[1 3 5 7 9]\n"
     ]
    }
   ],
   "source": [
    "# specifying start and step \n",
    "A2 = np.arange(start=1, stop=10, step=2)\n",
    "print(A2)"
   ]
  },
  {
   "cell_type": "code",
   "execution_count": 39,
   "id": "025f887c-28d0-4cdd-8b65-bb8f0030844f",
   "metadata": {},
   "outputs": [
    {
     "name": "stdout",
     "output_type": "stream",
     "text": [
      "[10 12 14 16 18 20 22 24]\n"
     ]
    }
   ],
   "source": [
    "# another way \n",
    "A3 = np.arange(10, 25, 2)\n",
    "print(A3)"
   ]
  },
  {
   "cell_type": "markdown",
   "id": "3d48f52c-732b-4109-b374-bcf4dcdbf9ce",
   "metadata": {},
   "source": [
    "## Generate arrays using `linspace()`\n",
    "- Returns equally spaced numbers within the given range based on the sample number. \n",
    "- **Syntax:**  `np.linspace(start, stop, num, dtype, retstep)`\n",
    "    - start-start of interval range \n",
    "    - stop-end of the interval range \n",
    "    - num- number of samples to be generated \n",
    "    - dtype-type of output array \n",
    "    - retstep-return the samples, step values "
   ]
  },
  {
   "cell_type": "code",
   "execution_count": 41,
   "id": "fd4cce7d-d172-4ec0-bb73-f57724c3e3aa",
   "metadata": {},
   "outputs": [
    {
     "name": "stdout",
     "output_type": "stream",
     "text": [
      "[0.         0.04081633 0.08163265 0.12244898 0.16326531 0.20408163\n",
      " 0.24489796 0.28571429 0.32653061 0.36734694 0.40816327 0.44897959\n",
      " 0.48979592 0.53061224 0.57142857 0.6122449  0.65306122 0.69387755\n",
      " 0.73469388 0.7755102  0.81632653 0.85714286 0.89795918 0.93877551\n",
      " 0.97959184 1.02040816 1.06122449 1.10204082 1.14285714 1.18367347\n",
      " 1.2244898  1.26530612 1.30612245 1.34693878 1.3877551  1.42857143\n",
      " 1.46938776 1.51020408 1.55102041 1.59183673 1.63265306 1.67346939\n",
      " 1.71428571 1.75510204 1.79591837 1.83673469 1.87755102 1.91836735\n",
      " 1.95918367 2.        ]\n"
     ]
    }
   ],
   "source": [
    "# array of evenly spaced values 0 to 2, here sample size = 9\n",
    "L1 = np.linspace(0,2,50)\n",
    "print(L1)"
   ]
  },
  {
   "cell_type": "code",
   "execution_count": 44,
   "id": "5cbc5e8b-f1d7-4622-8e0e-6b462ab7da4b",
   "metadata": {},
   "outputs": [
    {
     "name": "stdout",
     "output_type": "stream",
     "text": [
      "[  0.  20.  40.  60.  80. 100.]\n"
     ]
    }
   ],
   "source": [
    "# Array of 6 evenly divided values from 0 to 100\n",
    "L2 = np.linspace(0, 100, 6)\n",
    "print(L2) "
   ]
  },
  {
   "cell_type": "markdown",
   "id": "5b0085c2-ea14-4673-bb46-1869857c7530",
   "metadata": {},
   "source": [
    "## Generate constant arrays using `full()` \n",
    "- Return a new array of given shape and type, filled with `fill_value`. \n",
    "- **Syntax:** `np.full(shape,fill_value, dtype)`\n",
    "    - shape - Shape of the new array, e.g., ``(2, 3)`` or ``2``.\n",
    "    - fill_value - Fill value(scaler).\n",
    "    - dtype - The desired data-type for the array"
   ]
  },
  {
   "cell_type": "code",
   "execution_count": 45,
   "id": "3dd493cb-cb9b-4d3f-b59d-df0ac2e30ab5",
   "metadata": {},
   "outputs": [
    {
     "name": "stdout",
     "output_type": "stream",
     "text": [
      "[[7 7]\n",
      " [7 7]]\n"
     ]
    }
   ],
   "source": [
    "# generate 2x2 constant array, constant = 7\n",
    "C = np.full((2, 2), 7)\n",
    "print(C)"
   ]
  },
  {
   "cell_type": "markdown",
   "id": "b99dd4bc-11a5-41dc-a302-8d16cbb1b07b",
   "metadata": {},
   "source": [
    "## Creating identity matrix using `eye()`\n",
    "- An array where all elements are equal to zero, except for the `k`-th\n",
    "  diagonal, whose values are equal to one\n",
    "- **Syntax:** `np.eye(N, M, k, dtype)`\n",
    "    - N : Number of rows(int) in the output\n",
    "    - M : Number of columns in the output. If None, defaults to `N`.\n",
    "    - k : Index of the diagonal: 0 (the default) refers to the main diagonal,\n",
    "      a positive value refers to an upper diagonal, and a negative value\n",
    "      to a lower diagonal\n",
    "    - dtype: Data-type of the returned array."
   ]
  },
  {
   "cell_type": "code",
   "execution_count": 46,
   "id": "98580c1f-f5dc-413d-92fc-018f6fec7c3f",
   "metadata": {},
   "outputs": [
    {
     "name": "stdout",
     "output_type": "stream",
     "text": [
      "[[1. 0.]\n",
      " [0. 1.]]\n"
     ]
    }
   ],
   "source": [
    "# generate 2x2 identity matrix \n",
    "I = np.eye(2)\n",
    "print(I) "
   ]
  },
  {
   "cell_type": "code",
   "execution_count": 48,
   "id": "619c9b35-86f3-4441-a431-fce61d781e85",
   "metadata": {},
   "outputs": [
    {
     "name": "stdout",
     "output_type": "stream",
     "text": [
      "[[0. 1. 0. 0.]\n",
      " [0. 0. 1. 0.]\n",
      " [0. 0. 0. 1.]\n",
      " [0. 0. 0. 0.]]\n"
     ]
    }
   ],
   "source": [
    "# generate 2x2 identity matrix \n",
    "I = np.eye(4,4, 1)\n",
    "print(I) "
   ]
  },
  {
   "cell_type": "code",
   "execution_count": 49,
   "id": "a1b3d8b6-b25e-49c5-aea9-681db87682ac",
   "metadata": {},
   "outputs": [
    {
     "name": "stdout",
     "output_type": "stream",
     "text": [
      "[[0. 0. 0. 0.]\n",
      " [1. 0. 0. 0.]\n",
      " [0. 1. 0. 0.]\n",
      " [0. 0. 1. 0.]]\n"
     ]
    }
   ],
   "source": [
    "# generate 2x2 identity matrix \n",
    "I = np.eye(4,4, -1)\n",
    "print(I) "
   ]
  },
  {
   "cell_type": "markdown",
   "id": "d8cf29a9-2d72-4869-935c-19dd7ab8a7ac",
   "metadata": {},
   "source": [
    "## Generate arrays using random.rand() \n",
    "- Returns an array of given shape filled with random values. \n",
    "- **Syntax:** `np.random.rand(shape)`\n",
    "    - shape - integer or sequence of integer "
   ]
  },
  {
   "cell_type": "code",
   "execution_count": 50,
   "id": "3637cba9-7668-4a67-b3f5-61733d87fa51",
   "metadata": {},
   "outputs": [
    {
     "name": "stdout",
     "output_type": "stream",
     "text": [
      "[0.57208239 0.79439259 0.98575167 0.87940967 0.88358243]\n"
     ]
    }
   ],
   "source": [
    "# create an array with randomly generated 5 values \n",
    "R = np.random.rand(5)\n",
    "print(R)"
   ]
  },
  {
   "cell_type": "code",
   "execution_count": 51,
   "id": "1b419602-dd06-4af5-a968-7678456b2686",
   "metadata": {},
   "outputs": [
    {
     "name": "stdout",
     "output_type": "stream",
     "text": [
      "[[0.84778299 0.41796582 0.74845092 0.41478204 0.28825173]\n",
      " [0.79371449 0.3463693  0.03059566 0.74976527 0.64581043]\n",
      " [0.73652911 0.64979584 0.0791578  0.61918057 0.11869651]\n",
      " [0.92421041 0.37433972 0.66484773 0.41187003 0.33612362]]\n"
     ]
    }
   ],
   "source": [
    "# generate 4x5 array of random floats between 0-1\n",
    "R1 = np.random.rand(4,5)\n",
    "print(R1)"
   ]
  },
  {
   "cell_type": "code",
   "execution_count": 54,
   "id": "a31fddfb-d0d8-4e48-99f9-f2f8ab143378",
   "metadata": {},
   "outputs": [
    {
     "name": "stdout",
     "output_type": "stream",
     "text": [
      "[[82.9442899   7.04712881 85.23209739 24.0210895  14.03878098]\n",
      " [86.27694994 34.07413562 17.77590825 33.21216759 53.22717884]\n",
      " [ 1.20142348 68.85604131 24.21511252 79.42262897 21.37571009]\n",
      " [33.55620457 87.53229529 73.51065966 74.37603789 56.53178069]]\n"
     ]
    }
   ],
   "source": [
    "# generate 6x7 array of random floats between 0-100\n",
    "R3 = np.random.rand(4,5)*100\n",
    "print(R3)"
   ]
  },
  {
   "cell_type": "code",
   "execution_count": 55,
   "id": "8cd0be24-777b-491f-9f93-90a92d643565",
   "metadata": {},
   "outputs": [
    {
     "name": "stdout",
     "output_type": "stream",
     "text": [
      "[[2 4 4]\n",
      " [2 2 1]]\n"
     ]
    }
   ],
   "source": [
    "# generate 2x3 array of random ints between 0-4\n",
    "R4 = np.random.randint(5, size=(2,3))\n",
    "print(R4)"
   ]
  },
  {
   "cell_type": "markdown",
   "id": "3c2fdb7a-d8fe-4f59-a284-8c5ca1c181b0",
   "metadata": {},
   "source": [
    "## Generate empty arrays using `empty()`\n",
    "- Return a new array of given shape and type, without initializing entries.\n",
    "- **Syntax:** `np.empty(shape, dtype)`\n",
    "    - shape - integer or tuple of integer\n",
    "    - dtype - data-type\n"
   ]
  },
  {
   "cell_type": "code",
   "execution_count": 57,
   "id": "a339eaaa-afc3-45a9-b59d-c5b66624088b",
   "metadata": {},
   "outputs": [
    {
     "name": "stdout",
     "output_type": "stream",
     "text": [
      "[9.9e-324 1.5e-323]\n"
     ]
    }
   ],
   "source": [
    "# generate an empty array \n",
    "E1 = np.empty(2) \n",
    "print(E1)"
   ]
  },
  {
   "cell_type": "markdown",
   "id": "1dfefcf3-f6e1-4ad6-9a05-00284be5a981",
   "metadata": {},
   "source": [
    "# 3.1.4 Data Types\n",
    "## Data Types in Python \n",
    "- `strings` - used to represent text data, the text is given under quote marks. eg. \"ABCD\"\n",
    "- `integer` - used to represent integer numbers. eg. -1, -2, -3\n",
    "- `float` - used to represent real numbers. eg. 1.2, 42.42\n",
    "- `boolean` - used to represent True or False.\n",
    "- `complex` - used to represent a number in complex plain. eg. 1.0 + 2.0j, 1.5 + 2.5j"
   ]
  },
  {
   "cell_type": "markdown",
   "id": "e4620000-ce0e-46f3-baeb-fa50b0d58658",
   "metadata": {},
   "source": [
    "## Data Types in NumPy \n",
    "- `i` - integer\n",
    "- `b` - boolean\n",
    "- `u` - unsigned integer\n",
    "- `f` - float\n",
    "- `c` - complex float\n",
    "- `m` - timedelta\n",
    "- `M` - datetime\n",
    "- `O` - object\n",
    "- `S` - string\n",
    "- `U` - unicode string\n",
    "- `V` - fixed chunk of memory for other type ( void )"
   ]
  },
  {
   "cell_type": "markdown",
   "id": "1a80e514-a9d6-4cfd-a5b9-df2520a41298",
   "metadata": {},
   "source": [
    "## Brief Overview of NumPy Data Types "
   ]
  },
  {
   "cell_type": "markdown",
   "id": "a7010c96-7df5-4245-9250-a424fa3f84e2",
   "metadata": {},
   "source": [
    "|Data Type| Description|\n",
    "|---------|------------|\n",
    "|bool_ \t|Boolean (True or False) stored as a byte|\n",
    "|int_ \t|Default integer type (same as C long; normally either int64 or int32)|\n",
    "|intc \t|Identical to C int (normally int32 or int64)|\n",
    "|intp \t|Integer used for indexing (same as C ssize_t; normally either int32 or int64)|\n",
    "|int8 \t|Byte (-128 to 127)|\n",
    "|int16 \t|Integer (-32768 to 32767)|\n",
    "|int32  |Integer (-2147483648 to 2147483647)|\n",
    "|int64 \t|Integer (-9223372036854775808 to 9223372036854775807)|\n",
    "|uint8 \t|Unsigned integer (0 to 255)|\n",
    "|uint16 |Unsigned integer (0 to 65535)|\n",
    "|uint32 |Unsigned integer (0 to 4294967295)|\n",
    "|uint64 |Unsigned integer (0 to 18446744073709551615)|\n",
    "|float_ |Shorthand for float64|\n",
    "|float16|Half precision float: sign bit, 5 bits exponent, 10 bits mantissa|\n",
    "|float32 \t|Single precision float: sign bit, 8 bits exponent, 23 bits mantissa|\n",
    "|float64 \t|Double precision float: sign bit, 11 bits exponent, 52 bits mantissa|\n",
    "|complex_ \t|Shorthand for complex128.|\n",
    "|complex64 |\tComplex number, represented by two 32-bit floats|\n",
    "|complex128 \t|Complex number, represented by two 64-bit floats|"
   ]
  },
  {
   "cell_type": "markdown",
   "id": "f5752566-e08c-4d36-b4ad-f30f6c2a02d7",
   "metadata": {},
   "source": [
    "## Creating NumPy Array "
   ]
  },
  {
   "cell_type": "code",
   "execution_count": 2,
   "id": "35d1082c-a087-4d62-8e66-ab165b241155",
   "metadata": {},
   "outputs": [
    {
     "name": "stdout",
     "output_type": "stream",
     "text": [
      "[1 2 3 4 5 6 7 8 9]\n"
     ]
    }
   ],
   "source": [
    "# Create a numpy array \n",
    "A = np.array([1, 2, 3, 4, 5, 6, 7, 8, 9])\n",
    "print(A)"
   ]
  },
  {
   "cell_type": "code",
   "execution_count": 3,
   "id": "29fa6806-77c3-4806-b92c-9f55f3a04715",
   "metadata": {},
   "outputs": [
    {
     "name": "stdout",
     "output_type": "stream",
     "text": [
      "['Jim' 'Tim' 'Mim']\n"
     ]
    }
   ],
   "source": [
    "# Create a numpy array with strings \n",
    "S = np.array([\"Jim\", \"Tim\", \"Mim\"])\n",
    "print(S)"
   ]
  },
  {
   "cell_type": "markdown",
   "id": "ff853048-f91b-4c7f-a8e3-7acae84d22fc",
   "metadata": {},
   "source": [
    "## Checking the Data Type of an Array\n",
    "The NumPy array object has a property called `dtype` that returns the data type of the array:"
   ]
  },
  {
   "cell_type": "code",
   "execution_count": 4,
   "id": "c810c085-ebde-447c-b80c-7b5ed9071f17",
   "metadata": {},
   "outputs": [
    {
     "data": {
      "text/plain": [
       "dtype('int64')"
      ]
     },
     "execution_count": 4,
     "metadata": {},
     "output_type": "execute_result"
    }
   ],
   "source": [
    "# Check the data type of `A`\n",
    "A.dtype"
   ]
  },
  {
   "cell_type": "code",
   "execution_count": 6,
   "id": "3af24a5c-8890-42a1-a77d-f3810b759630",
   "metadata": {},
   "outputs": [
    {
     "data": {
      "text/plain": [
       "dtype('<U3')"
      ]
     },
     "execution_count": 6,
     "metadata": {},
     "output_type": "execute_result"
    }
   ],
   "source": [
    "# Check the data type of `S`\n",
    "S.dtype"
   ]
  },
  {
   "cell_type": "markdown",
   "id": "ccee9e69-66c9-40b5-8971-e4ca0f9c9e94",
   "metadata": {},
   "source": [
    "## Creating Arrays With a Defined Data Type\n",
    "We use the `array()` function to create arrays, this function can take an optional argument: `dtype` that allows us to define the expected data type of the array elements"
   ]
  },
  {
   "cell_type": "code",
   "execution_count": 7,
   "id": "b1625416-37d1-45cf-b759-1e7099e2ee4b",
   "metadata": {},
   "outputs": [
    {
     "name": "stdout",
     "output_type": "stream",
     "text": [
      "[1 2 3 4 5]\n"
     ]
    }
   ],
   "source": [
    "# Create an array of integers \n",
    "B = np.array([1, 2, 3, 4, 5], dtype=np.int64)\n",
    "print(B)"
   ]
  },
  {
   "cell_type": "code",
   "execution_count": 14,
   "id": "522a3936-6f1a-4c9f-ad2c-5ec3749853cd",
   "metadata": {},
   "outputs": [
    {
     "data": {
      "text/plain": [
       "dtype('int64')"
      ]
     },
     "execution_count": 14,
     "metadata": {},
     "output_type": "execute_result"
    }
   ],
   "source": [
    "# Check data type of `B`\n",
    "B.dtype"
   ]
  },
  {
   "cell_type": "code",
   "execution_count": 9,
   "id": "b2d90887-53ef-4af1-aeff-a8cef10cde3b",
   "metadata": {},
   "outputs": [
    {
     "name": "stdout",
     "output_type": "stream",
     "text": [
      "[1. 2. 3. 4. 5.]\n"
     ]
    }
   ],
   "source": [
    "# Create an array of floats \n",
    "C = np.array([1, 2, 3, 4, 5], dtype='float32')\n",
    "print(C)"
   ]
  },
  {
   "cell_type": "code",
   "execution_count": 10,
   "id": "9e3ef1cb-832e-4537-845e-5d0516416d38",
   "metadata": {},
   "outputs": [
    {
     "data": {
      "text/plain": [
       "dtype('float32')"
      ]
     },
     "execution_count": 10,
     "metadata": {},
     "output_type": "execute_result"
    }
   ],
   "source": [
    "# Check the data type of `C`\n",
    "C.dtype"
   ]
  },
  {
   "cell_type": "markdown",
   "id": "660122be-f1b2-4060-ad4f-33a5bac54dc4",
   "metadata": {},
   "source": [
    "## Find Byte Size of an Array "
   ]
  },
  {
   "cell_type": "code",
   "execution_count": 11,
   "id": "a5c9510b-ac83-4b11-b327-a53c1a0fb97a",
   "metadata": {},
   "outputs": [
    {
     "data": {
      "text/plain": [
       "72"
      ]
     },
     "execution_count": 11,
     "metadata": {},
     "output_type": "execute_result"
    }
   ],
   "source": [
    "# Check byte size of `A`\n",
    "A.nbytes"
   ]
  },
  {
   "cell_type": "code",
   "execution_count": 12,
   "id": "2291d8dc-e3f2-46f3-958e-1c0836f9b140",
   "metadata": {},
   "outputs": [
    {
     "data": {
      "text/plain": [
       "36"
      ]
     },
     "execution_count": 12,
     "metadata": {},
     "output_type": "execute_result"
    }
   ],
   "source": [
    "# Check byte size of `S`\n",
    "S.nbytes"
   ]
  },
  {
   "cell_type": "code",
   "execution_count": 13,
   "id": "6594a218-30d6-4c68-b361-8b189f5a1098",
   "metadata": {},
   "outputs": [
    {
     "data": {
      "text/plain": [
       "40"
      ]
     },
     "execution_count": 13,
     "metadata": {},
     "output_type": "execute_result"
    }
   ],
   "source": [
    "# Check byte size of `B`\n",
    "B.nbytes"
   ]
  },
  {
   "cell_type": "markdown",
   "id": "779b9a6c-30bc-41c2-b66f-499de654d8d2",
   "metadata": {},
   "source": [
    "## Converting Data Type on Existing Arrays using  `astype()`"
   ]
  },
  {
   "cell_type": "code",
   "execution_count": null,
   "id": "e31d4e72-6a04-4f2e-b809-66fd8d5267ac",
   "metadata": {},
   "outputs": [],
   "source": []
  },
  {
   "cell_type": "code",
   "execution_count": null,
   "id": "c79928da-602e-4907-bc81-1c761f021725",
   "metadata": {},
   "outputs": [],
   "source": []
  },
  {
   "cell_type": "markdown",
   "id": "b26bd24d-bfcc-47bc-9a49-769cfb5fef2e",
   "metadata": {},
   "source": [
    "## Find Byte Size of an Array "
   ]
  },
  {
   "cell_type": "markdown",
   "id": "73878a99-c8d1-4f44-92c5-8520ebafb65e",
   "metadata": {},
   "source": [
    "*Copyright &copy; 2024  [Md. Jubayer Hossain](https://hossainlab.github.io/) &  [Center for Bioinformatics Learning Advancement and Systematic Training (cBLAST)](https://www.cblast.du.ac.bd/). All rights reserved*"
   ]
  }
 ],
 "metadata": {
  "kernelspec": {
   "display_name": "Python 3 (ipykernel)",
   "language": "python",
   "name": "python3"
  },
  "language_info": {
   "codemirror_mode": {
    "name": "ipython",
    "version": 3
   },
   "file_extension": ".py",
   "mimetype": "text/x-python",
   "name": "python",
   "nbconvert_exporter": "python",
   "pygments_lexer": "ipython3",
   "version": "3.10.12"
  }
 },
 "nbformat": 4,
 "nbformat_minor": 5
}
